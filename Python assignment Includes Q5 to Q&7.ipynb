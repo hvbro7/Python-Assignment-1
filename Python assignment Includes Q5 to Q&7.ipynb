{
 "cells": [
  {
   "cell_type": "code",
   "execution_count": 1,
   "metadata": {},
   "outputs": [
    {
     "name": "stdout",
     "output_type": "stream",
     "text": [
      "<class 'str'>\n",
      "<class 'int'>\n"
     ]
    }
   ],
   "source": [
    "#Question 5  explain the concept of type casting in Python with examples. \n",
    "'''ANs \n",
    "        Type casting :- it is a process of changing the data type of a value/object\n",
    "        we need type casting because while executing using operators there can be\n",
    "         mismatch between the data.'''\n",
    "a = '2'           \n",
    "print(type(a))\n",
    "print(type(int(a)))         \n"
   ]
  },
  {
   "cell_type": "code",
   "execution_count": 2,
   "metadata": {},
   "outputs": [
    {
     "name": "stdout",
     "output_type": "stream",
     "text": [
      "<class 'int'>\n"
     ]
    }
   ],
   "source": [
    "#float o int\n",
    "a = 3.4 \n",
    "print(type(int(a)))"
   ]
  },
  {
   "cell_type": "code",
   "execution_count": 3,
   "metadata": {},
   "outputs": [
    {
     "data": {
      "text/plain": [
       "3.0"
      ]
     },
     "execution_count": 3,
     "metadata": {},
     "output_type": "execute_result"
    }
   ],
   "source": [
    "#int to float\n",
    "a = 3 \n",
    "float(a)"
   ]
  },
  {
   "cell_type": "code",
   "execution_count": 4,
   "metadata": {},
   "outputs": [
    {
     "name": "stdout",
     "output_type": "stream",
     "text": [
      "x is greater than 5\n"
     ]
    }
   ],
   "source": [
    "#Question 6 \n",
    "# How do conditional statements work in Python? Illustrate with examples. \n",
    "'''Ans  \n",
    "         Conditional statements in Python allow to execute different blocks of code based on certain conditions.\n",
    "         The primary conditional statements in Python are if, elif, and else.\n",
    "         Syntax of Conditional Statements\n",
    "if statement: Checks a condition and executes the block of code if the condition is True.\n",
    "elif statement: Short for \"else if,\" it allows you to check multiple conditions.\n",
    "else statement: Executes a block of code if none of the previous conditions are True.''' \n",
    "x = 10\n",
    "if x > 5:\n",
    "    print(\"x is greater than 5\")  # If statment"
   ]
  },
  {
   "cell_type": "code",
   "execution_count": 5,
   "metadata": {},
   "outputs": [
    {
     "name": "stdout",
     "output_type": "stream",
     "text": [
      "x is equal to 10\n"
     ]
    }
   ],
   "source": [
    "x = 10\n",
    "if x > 10:\n",
    "    print(\"x is greater than 10\")\n",
    "elif x == 10:\n",
    "    print(\"x is equal to 10\")  # Using if, elif,and else \n",
    "else:\n",
    "    print(\"x is less than 10\")"
   ]
  },
  {
   "cell_type": "code",
   "execution_count": 6,
   "metadata": {},
   "outputs": [
    {
     "name": "stdout",
     "output_type": "stream",
     "text": [
      "You are an adult student.\n"
     ]
    }
   ],
   "source": [
    "age = 20\n",
    "is_student = True\n",
    "\n",
    "if age < 18:\n",
    "    print(\"You are a minor.\")\n",
    "elif age >= 18 and is_student:\n",
    "    print(\"You are an adult student.\")  # using multiple statments and ,or\n",
    "else:\n",
    "    print(\"You are an adult.\")"
   ]
  },
  {
   "cell_type": "code",
   "execution_count": 7,
   "metadata": {},
   "outputs": [
    {
     "name": "stdout",
     "output_type": "stream",
     "text": [
      "You passed!\n"
     ]
    }
   ],
   "source": [
    "score = 85\n",
    "\n",
    "if score >= 60:\n",
    "    print(\"You passed!\")\n",
    "    if score >= 90:\n",
    "        print(\"Excellent job!\")  # using nested conditional staement\n",
    "else:\n",
    "    print(\"You failed.\")"
   ]
  },
  {
   "cell_type": "code",
   "execution_count": 8,
   "metadata": {},
   "outputs": [
    {
     "name": "stdout",
     "output_type": "stream",
     "text": [
      "1\n",
      "2\n",
      "3\n",
      "4\n",
      "5\n",
      "6\n"
     ]
    }
   ],
   "source": [
    "#Question 7. Describe the different types of loops in Python and their use cases with examples.\n",
    "'''Ans \n",
    "            While Loop :- it repeatedly executes a block of code untill a condition is met''' \n",
    "n = 7 \n",
    "i = 1 \n",
    "while i < n:\n",
    "    print(i)\n",
    "    i = i + 1            \n"
   ]
  },
  {
   "cell_type": "code",
   "execution_count": 9,
   "metadata": {},
   "outputs": [
    {
     "name": "stdout",
     "output_type": "stream",
     "text": [
      "1\n",
      "2\n"
     ]
    }
   ],
   "source": [
    "n = 7             #break (terminates or exits the loop)\n",
    "i = 1 \n",
    "while i < n:\n",
    "    print(i)\n",
    "    i = i + 1\n",
    "    if i == 3:\n",
    "        break"
   ]
  },
  {
   "cell_type": "code",
   "execution_count": 10,
   "metadata": {},
   "outputs": [
    {
     "name": "stdout",
     "output_type": "stream",
     "text": [
      "2\n",
      "4\n",
      "5\n",
      "6\n",
      "7\n"
     ]
    }
   ],
   "source": [
    "n = 7            #continue (it skips the iteration)\n",
    "i = 1 \n",
    "while i < n:\n",
    "    i = i + 1\n",
    "    if i == 3:\n",
    "        continue\n",
    "    print(i)"
   ]
  },
  {
   "cell_type": "code",
   "execution_count": 11,
   "metadata": {},
   "outputs": [
    {
     "name": "stdout",
     "output_type": "stream",
     "text": [
      "p\n",
      "w\n",
      "s\n",
      "k\n",
      "i\n",
      "l\n",
      "l\n",
      "s\n"
     ]
    }
   ],
   "source": [
    "#for loops (it iterates / acesses the data in a sequential way)(either it is string or list)\n",
    "for i in 'pwskills':\n",
    "    print(i)"
   ]
  },
  {
   "cell_type": "code",
   "execution_count": 12,
   "metadata": {},
   "outputs": [
    {
     "name": "stdout",
     "output_type": "stream",
     "text": [
      "1\n",
      "2\n",
      "Harshit\n",
      "Verma\n"
     ]
    }
   ],
   "source": [
    "l = [1,2,\"Harshit\",\"Verma\"]\n",
    "for i in l:\n",
    "    print(i)"
   ]
  },
  {
   "cell_type": "code",
   "execution_count": 13,
   "metadata": {},
   "outputs": [
    {
     "name": "stdout",
     "output_type": "stream",
     "text": [
      "1\n",
      "2\n"
     ]
    }
   ],
   "source": [
    "for i in l:         #break statment for \n",
    "    if i == \"Harshit\":\n",
    "        break\n",
    "    print(i)\n",
    "else:\n",
    "    print( \"this will be executed at the end without a break statment\" )\n"
   ]
  },
  {
   "cell_type": "code",
   "execution_count": 14,
   "metadata": {},
   "outputs": [
    {
     "name": "stdout",
     "output_type": "stream",
     "text": [
      "1\n",
      "2\n",
      "Verma\n",
      "this will be executed at the end\n"
     ]
    }
   ],
   "source": [
    "for i in l:                 # continue (for)\n",
    "    if i == \"Harshit\":\n",
    "        continue\n",
    "    print(i)\n",
    "else:\n",
    "    print( \"this will be executed at the end\" )"
   ]
  },
  {
   "cell_type": "code",
   "execution_count": 16,
   "metadata": {},
   "outputs": [
    {
     "name": "stdout",
     "output_type": "stream",
     "text": [
      "* * * \n",
      "* * * \n",
      "* * * \n"
     ]
    }
   ],
   "source": [
    "#Internal homework :- square of star\n",
    "'''   * * *\n",
    "      * * *\n",
    "      * * *   '''\n",
    "for i in range(3):              # using for loop\n",
    "    for j in range(3):\n",
    "        print(\"*\", end=\" \")\n",
    "    print()      "
   ]
  },
  {
   "cell_type": "code",
   "execution_count": null,
   "metadata": {},
   "outputs": [],
   "source": []
  }
 ],
 "metadata": {
  "kernelspec": {
   "display_name": "Python 3",
   "language": "python",
   "name": "python3"
  },
  "language_info": {
   "codemirror_mode": {
    "name": "ipython",
    "version": 3
   },
   "file_extension": ".py",
   "mimetype": "text/x-python",
   "name": "python",
   "nbconvert_exporter": "python",
   "pygments_lexer": "ipython3",
   "version": "3.11.5"
  }
 },
 "nbformat": 4,
 "nbformat_minor": 2
}
